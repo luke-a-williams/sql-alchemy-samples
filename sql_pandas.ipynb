{
 "cells": [
  {
   "cell_type": "markdown",
   "id": "024dcc7c",
   "metadata": {},
   "source": [
    "# SQL Alchemy With Python\n",
    "## Introduction\n",
    "The code samples provided here showcase some basic functionality within sqlalchemy and pandas, including:\n",
    "* How to read straight into pandas\n",
    "* How to convert from connection execution statements into pandas\n",
    "* Use cases of when you can use each example"
   ]
  },
  {
   "cell_type": "markdown",
   "id": "ef7e895a",
   "metadata": {},
   "source": [
    "## Requirements\n",
    "This tutorial just uses an in memory database with no external connections, but if you want to connect to an Oracle db you will need an ODBC driver downloaded. I THINK you can find instructions on how to do that for Windows, here: https://cx-oracle.readthedocs.io/en/latest/user_guide/installation.html#installing-cx-oracle-on-windows\n",
    "\n",
    " * Python environment able to import the dependencies as listed below"
   ]
  },
  {
   "cell_type": "markdown",
   "id": "8dacc79c",
   "metadata": {},
   "source": [
    "## Setup\n",
    "In this part we'll configure some sample dataframes to use as a demonstration"
   ]
  },
  {
   "cell_type": "code",
   "execution_count": 1,
   "id": "be73d022",
   "metadata": {},
   "outputs": [],
   "source": [
    "import pandas as pd\n",
    "\n",
    "from sqlalchemy import create_engine, text"
   ]
  },
  {
   "cell_type": "code",
   "execution_count": 3,
   "id": "d1068d5b",
   "metadata": {},
   "outputs": [],
   "source": [
    "#In memory connection for purpose of this guide:\n",
    "engine = create_engine(\"sqlite+pysqlite:///:memory:\", echo=True)\n",
    "\n",
    "#An actual connection could look more like the following:\n",
    "#engine = create_engine('oracle+cx_oracle://%s:%s@%s' % (USERNAME, PASSWORD, CON_STRING), echo=True) "
   ]
  },
  {
   "cell_type": "code",
   "execution_count": 23,
   "id": "abf7fd2d",
   "metadata": {},
   "outputs": [],
   "source": [
    "#If you need to drop the tables at any point, uncomment this and run:\n",
    "#with engine.connect() as conn:\n",
    "    #conn.execute(\"DROP TABLE some_table\")\n",
    "    #conn.execute(\"DROP TABLE other_table\")"
   ]
  },
  {
   "cell_type": "code",
   "execution_count": 25,
   "id": "a6779c39",
   "metadata": {},
   "outputs": [
    {
     "name": "stdout",
     "output_type": "stream",
     "text": [
      "2023-01-30 20:22:49,359 INFO sqlalchemy.engine.Engine CREATE TABLE some_table (x int, y int)\n",
      "2023-01-30 20:22:49,366 INFO sqlalchemy.engine.Engine [cached since 839.6s ago] ()\n",
      "2023-01-30 20:22:49,369 INFO sqlalchemy.engine.Engine COMMIT\n",
      "2023-01-30 20:22:49,373 INFO sqlalchemy.engine.Engine INSERT INTO some_table (x, y) VALUES (?, ?)\n",
      "2023-01-30 20:22:49,377 INFO sqlalchemy.engine.Engine [cached since 839.6s ago] ((1, 1), (2, 4))\n",
      "2023-01-30 20:22:49,377 INFO sqlalchemy.engine.Engine COMMIT\n",
      "2023-01-30 20:22:49,378 INFO sqlalchemy.engine.Engine BEGIN (implicit)\n",
      "2023-01-30 20:22:49,378 INFO sqlalchemy.engine.Engine INSERT INTO some_table (x, y) VALUES (?, ?)\n",
      "2023-01-30 20:22:49,379 INFO sqlalchemy.engine.Engine [cached since 839.6s ago] ((6, 8), (9, 10))\n",
      "2023-01-30 20:22:49,379 INFO sqlalchemy.engine.Engine COMMIT\n"
     ]
    }
   ],
   "source": [
    "#Dataframe 1\n",
    "with engine.connect() as conn:\n",
    "    conn.execute(text(\"CREATE TABLE some_table (x int, y int)\"))\n",
    "    conn.execute(\n",
    "        text(\"INSERT INTO some_table (x, y) VALUES (:x, :y)\"),\n",
    "        [{\"x\": 1, \"y\": 1}, {\"x\": 2, \"y\": 4}],\n",
    "    )\n",
    "# Adding values to a table\n",
    "with engine.begin() as conn:\n",
    "    conn.execute(\n",
    "        text(\"INSERT INTO some_table (x, y) VALUES (:x, :y)\"),\n",
    "        [{\"x\": 6, \"y\": 8}, {\"x\": 9, \"y\": 10}],\n",
    "    )\n"
   ]
  },
  {
   "cell_type": "code",
   "execution_count": 24,
   "id": "e0008f7d",
   "metadata": {},
   "outputs": [
    {
     "name": "stdout",
     "output_type": "stream",
     "text": [
      "2023-01-30 20:22:42,490 INFO sqlalchemy.engine.Engine CREATE TABLE other_table (x int, y int)\n",
      "2023-01-30 20:22:42,494 INFO sqlalchemy.engine.Engine [generated in 0.00444s] ()\n",
      "2023-01-30 20:22:42,504 INFO sqlalchemy.engine.Engine COMMIT\n",
      "2023-01-30 20:22:42,510 INFO sqlalchemy.engine.Engine INSERT INTO other_table (x, y) VALUES (?, ?)\n",
      "2023-01-30 20:22:42,512 INFO sqlalchemy.engine.Engine [generated in 0.00150s] ((1, 1), (2, 4))\n",
      "2023-01-30 20:22:42,512 INFO sqlalchemy.engine.Engine COMMIT\n",
      "2023-01-30 20:22:42,513 INFO sqlalchemy.engine.Engine BEGIN (implicit)\n",
      "2023-01-30 20:22:42,513 INFO sqlalchemy.engine.Engine INSERT INTO other_table (x, y) VALUES (?, ?)\n",
      "2023-01-30 20:22:42,514 INFO sqlalchemy.engine.Engine [cached since 0.003707s ago] ((5, 8), (9, 11))\n",
      "2023-01-30 20:22:42,514 INFO sqlalchemy.engine.Engine COMMIT\n"
     ]
    }
   ],
   "source": [
    "#Dataframe 2\n",
    "with engine.connect() as conn:\n",
    "    conn.execute(text(\"CREATE TABLE other_table (x int, y int)\"))\n",
    "    conn.execute(\n",
    "        text(\"INSERT INTO other_table (x, y) VALUES (:x, :y)\"),\n",
    "        [{\"x\": 1, \"y\": 1}, {\"x\": 2, \"y\": 4}],\n",
    "    )\n",
    "# Adding values to a table\n",
    "with engine.begin() as conn:\n",
    "    conn.execute(\n",
    "        text(\"INSERT INTO other_table (x, y) VALUES (:x, :y)\"),\n",
    "        [{\"x\": 5, \"y\": 8}, {\"x\": 9, \"y\": 11}], #Difference on x, and y values compared to dataframe 1\n",
    "    )"
   ]
  },
  {
   "cell_type": "markdown",
   "id": "163beab2",
   "metadata": {},
   "source": [
    "# Examples"
   ]
  },
  {
   "cell_type": "markdown",
   "id": "98db215f",
   "metadata": {},
   "source": [
    "## Directly read with Pandas\n",
    "Useful with:\n",
    "* small table reads\n",
    "* when you need to return something with certainty as a dataframe"
   ]
  },
  {
   "cell_type": "code",
   "execution_count": 26,
   "id": "7ad7ac43",
   "metadata": {},
   "outputs": [
    {
     "name": "stdout",
     "output_type": "stream",
     "text": [
      "2023-01-30 20:23:05,765 INFO sqlalchemy.engine.Engine PRAGMA main.table_info(\"\n",
      "select x, y from some_table\n",
      "\")\n",
      "2023-01-30 20:23:05,770 INFO sqlalchemy.engine.Engine [raw sql] ()\n",
      "2023-01-30 20:23:05,773 INFO sqlalchemy.engine.Engine PRAGMA temp.table_info(\"\n",
      "select x, y from some_table\n",
      "\")\n",
      "2023-01-30 20:23:05,779 INFO sqlalchemy.engine.Engine [raw sql] ()\n",
      "2023-01-30 20:23:05,780 INFO sqlalchemy.engine.Engine \n",
      "select x, y from some_table\n",
      "\n",
      "2023-01-30 20:23:05,781 INFO sqlalchemy.engine.Engine [raw sql] ()\n"
     ]
    },
    {
     "data": {
      "text/html": [
       "<div>\n",
       "<style scoped>\n",
       "    .dataframe tbody tr th:only-of-type {\n",
       "        vertical-align: middle;\n",
       "    }\n",
       "\n",
       "    .dataframe tbody tr th {\n",
       "        vertical-align: top;\n",
       "    }\n",
       "\n",
       "    .dataframe thead th {\n",
       "        text-align: right;\n",
       "    }\n",
       "</style>\n",
       "<table border=\"1\" class=\"dataframe\">\n",
       "  <thead>\n",
       "    <tr style=\"text-align: right;\">\n",
       "      <th></th>\n",
       "      <th>x</th>\n",
       "      <th>y</th>\n",
       "    </tr>\n",
       "  </thead>\n",
       "  <tbody>\n",
       "    <tr>\n",
       "      <th>0</th>\n",
       "      <td>1</td>\n",
       "      <td>1</td>\n",
       "    </tr>\n",
       "    <tr>\n",
       "      <th>1</th>\n",
       "      <td>2</td>\n",
       "      <td>4</td>\n",
       "    </tr>\n",
       "    <tr>\n",
       "      <th>2</th>\n",
       "      <td>6</td>\n",
       "      <td>8</td>\n",
       "    </tr>\n",
       "    <tr>\n",
       "      <th>3</th>\n",
       "      <td>9</td>\n",
       "      <td>10</td>\n",
       "    </tr>\n",
       "  </tbody>\n",
       "</table>\n",
       "</div>"
      ],
      "text/plain": [
       "   x   y\n",
       "0  1   1\n",
       "1  2   4\n",
       "2  6   8\n",
       "3  9  10"
      ]
     },
     "execution_count": 26,
     "metadata": {},
     "output_type": "execute_result"
    }
   ],
   "source": [
    "sql = \"\"\"\n",
    "select x, y from some_table\n",
    "\"\"\"\n",
    "with engine.connect() as conn:\n",
    "    df = pd.read_sql(sql, conn)\n",
    "\n",
    "df.tail()"
   ]
  },
  {
   "cell_type": "markdown",
   "id": "7d05848e",
   "metadata": {},
   "source": [
    "## Reading connection execution result into pandas\n",
    "Useful with:\n",
    "* When you need to run a SQL statement without capturing data (i.e a procedure or function to generate another table)\n",
    "* If data gets larger\n",
    "* You need to pass it through any kind of custom pre-processing"
   ]
  },
  {
   "cell_type": "code",
   "execution_count": 27,
   "id": "c6054453",
   "metadata": {},
   "outputs": [
    {
     "name": "stdout",
     "output_type": "stream",
     "text": [
      "2023-01-30 20:23:07,649 INFO sqlalchemy.engine.Engine \n",
      "select x, y from other_table\n",
      "\n",
      "2023-01-30 20:23:07,656 INFO sqlalchemy.engine.Engine [raw sql] ()\n"
     ]
    },
    {
     "data": {
      "text/html": [
       "<div>\n",
       "<style scoped>\n",
       "    .dataframe tbody tr th:only-of-type {\n",
       "        vertical-align: middle;\n",
       "    }\n",
       "\n",
       "    .dataframe tbody tr th {\n",
       "        vertical-align: top;\n",
       "    }\n",
       "\n",
       "    .dataframe thead th {\n",
       "        text-align: right;\n",
       "    }\n",
       "</style>\n",
       "<table border=\"1\" class=\"dataframe\">\n",
       "  <thead>\n",
       "    <tr style=\"text-align: right;\">\n",
       "      <th></th>\n",
       "      <th>x</th>\n",
       "      <th>y</th>\n",
       "    </tr>\n",
       "  </thead>\n",
       "  <tbody>\n",
       "    <tr>\n",
       "      <th>0</th>\n",
       "      <td>1</td>\n",
       "      <td>1</td>\n",
       "    </tr>\n",
       "    <tr>\n",
       "      <th>1</th>\n",
       "      <td>2</td>\n",
       "      <td>4</td>\n",
       "    </tr>\n",
       "    <tr>\n",
       "      <th>2</th>\n",
       "      <td>5</td>\n",
       "      <td>8</td>\n",
       "    </tr>\n",
       "    <tr>\n",
       "      <th>3</th>\n",
       "      <td>9</td>\n",
       "      <td>11</td>\n",
       "    </tr>\n",
       "  </tbody>\n",
       "</table>\n",
       "</div>"
      ],
      "text/plain": [
       "   x   y\n",
       "0  1   1\n",
       "1  2   4\n",
       "2  5   8\n",
       "3  9  11"
      ]
     },
     "execution_count": 27,
     "metadata": {},
     "output_type": "execute_result"
    }
   ],
   "source": [
    "sql2 = \"\"\"\n",
    "select x, y from other_table\n",
    "\"\"\"\n",
    "with engine.connect() as conn:\n",
    "    result = conn.execute(sql2)\n",
    "    df2 = pd.DataFrame(result.fetchall())\n",
    "    df2.columns = result.keys()\n",
    "\n",
    "df2.tail()"
   ]
  },
  {
   "cell_type": "markdown",
   "id": "4f0fac26",
   "metadata": {},
   "source": [
    "## Comparing query results\n",
    "In this section we will look at basic way of comparing dataframes.\n",
    "https://pandas.pydata.org/docs/reference/api/pandas.DataFrame.compare.html\n"
   ]
  },
  {
   "cell_type": "code",
   "execution_count": 30,
   "id": "06d696c2",
   "metadata": {},
   "outputs": [
    {
     "data": {
      "text/html": [
       "<div>\n",
       "<style scoped>\n",
       "    .dataframe tbody tr th:only-of-type {\n",
       "        vertical-align: middle;\n",
       "    }\n",
       "\n",
       "    .dataframe tbody tr th {\n",
       "        vertical-align: top;\n",
       "    }\n",
       "\n",
       "    .dataframe thead tr th {\n",
       "        text-align: left;\n",
       "    }\n",
       "</style>\n",
       "<table border=\"1\" class=\"dataframe\">\n",
       "  <thead>\n",
       "    <tr>\n",
       "      <th></th>\n",
       "      <th colspan=\"2\" halign=\"left\">x</th>\n",
       "      <th colspan=\"2\" halign=\"left\">y</th>\n",
       "    </tr>\n",
       "    <tr>\n",
       "      <th></th>\n",
       "      <th>self</th>\n",
       "      <th>other</th>\n",
       "      <th>self</th>\n",
       "      <th>other</th>\n",
       "    </tr>\n",
       "  </thead>\n",
       "  <tbody>\n",
       "    <tr>\n",
       "      <th>2</th>\n",
       "      <td>6.0</td>\n",
       "      <td>5.0</td>\n",
       "      <td>NaN</td>\n",
       "      <td>NaN</td>\n",
       "    </tr>\n",
       "    <tr>\n",
       "      <th>3</th>\n",
       "      <td>NaN</td>\n",
       "      <td>NaN</td>\n",
       "      <td>10.0</td>\n",
       "      <td>11.0</td>\n",
       "    </tr>\n",
       "  </tbody>\n",
       "</table>\n",
       "</div>"
      ],
      "text/plain": [
       "     x           y      \n",
       "  self other  self other\n",
       "2  6.0   5.0   NaN   NaN\n",
       "3  NaN   NaN  10.0  11.0"
      ]
     },
     "execution_count": 30,
     "metadata": {},
     "output_type": "execute_result"
    }
   ],
   "source": [
    "df.compare(df2)"
   ]
  },
  {
   "cell_type": "code",
   "execution_count": null,
   "id": "da6791be",
   "metadata": {},
   "outputs": [],
   "source": []
  }
 ],
 "metadata": {
  "kernelspec": {
   "display_name": "Python 3 (ipykernel)",
   "language": "python",
   "name": "python3"
  },
  "language_info": {
   "codemirror_mode": {
    "name": "ipython",
    "version": 3
   },
   "file_extension": ".py",
   "mimetype": "text/x-python",
   "name": "python",
   "nbconvert_exporter": "python",
   "pygments_lexer": "ipython3",
   "version": "3.10.4"
  }
 },
 "nbformat": 4,
 "nbformat_minor": 5
}
