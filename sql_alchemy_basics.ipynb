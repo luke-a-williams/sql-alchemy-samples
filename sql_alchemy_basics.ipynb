{
 "cells": [
  {
   "cell_type": "markdown",
   "id": "58360c0e",
   "metadata": {},
   "source": [
    "# SQL Alchemy Basics\n",
    "## Introduction\n",
    "The code samples provided here showcase some basic functionality within sqlalchemy, including:\n",
    "* How to create an engine, and establish a connection correctly\n",
    "* How to run queries on that connection\n",
    "* Different interpretations and optionss for handling the result"
   ]
  },
  {
   "cell_type": "markdown",
   "id": "6a588e4e",
   "metadata": {},
   "source": [
    "## Requirements\n",
    "This tutorial just uses an in memory database with no external connections, but if you want to connect to an Oracle db you will need an ODBC driver downloaded. \n",
    "I THINK you can find instructions on how to do that here: https://cx-oracle.readthedocs.io/en/latest/user_guide/installation.html#installing-cx-oracle-on-windows\n",
    " * Python environment able to import the dependencies as listed below\n",
    " * (Optional) - a brief look at the tutorial here: https://docs.sqlalchemy.org/en/20/tutorial/index.html#unified-tutorial"
   ]
  },
  {
   "cell_type": "code",
   "execution_count": null,
   "id": "72403618",
   "metadata": {},
   "outputs": [],
   "source": [
    "from sqlalchemy import create_engine, text\n"
   ]
  },
  {
   "cell_type": "markdown",
   "id": "cea38169",
   "metadata": {},
   "source": [
    "## Establishing Connectivity - the Engine"
   ]
  },
  {
   "cell_type": "code",
   "execution_count": null,
   "id": "3f499db3",
   "metadata": {},
   "outputs": [],
   "source": [
    "#In memory connection for purpose of this guide:\n",
    "engine = create_engine(\"sqlite+pysqlite:///:memory:\", echo=True)\n",
    "\n",
    "#An actual connection could look more like the following:\n",
    "#engine = create_engine('oracle+cx_oracle://%s:%s@%s' % (USERNAME, PASSWORD, CON_STRING), echo=True) \n"
   ]
  },
  {
   "cell_type": "markdown",
   "id": "4c279962",
   "metadata": {},
   "source": [
    "### Important - ensure the connection can close after it has been used\n",
    "Adjust pool_timeout or use 'with' in python so connection isn't permanent. i.e. use additional argument such as pool_timeout = 58800 in the connection"
   ]
  },
  {
   "cell_type": "markdown",
   "id": "f99c0b57",
   "metadata": {},
   "source": [
    "## Working with Transactions and the DBAPI"
   ]
  },
  {
   "cell_type": "code",
   "execution_count": null,
   "id": "6dc249f7",
   "metadata": {},
   "outputs": [],
   "source": [
    "with engine.connect() as conn:\n",
    "    result = conn.execute(text(\"select 'hello world'\"))\n",
    "    print(result.all())"
   ]
  },
  {
   "cell_type": "markdown",
   "id": "99d2c62f",
   "metadata": {},
   "source": [
    "## Committing Changes"
   ]
  },
  {
   "cell_type": "code",
   "execution_count": null,
   "id": "be0e4b43",
   "metadata": {},
   "outputs": [],
   "source": [
    "with engine.connect() as conn:\n",
    "    conn.execute(text(\"CREATE TABLE some_table (x int, y int)\"))\n",
    "    conn.execute(\n",
    "        text(\"INSERT INTO some_table (x, y) VALUES (:x, :y)\"),\n",
    "        [{\"x\": 1, \"y\": 1}, {\"x\": 2, \"y\": 4}],\n",
    "    )\n",
    "#I believe commit may have become automatic!"
   ]
  },
  {
   "cell_type": "markdown",
   "id": "ecb305d4",
   "metadata": {},
   "source": []
  },
  {
   "cell_type": "markdown",
   "id": "e3a8d80f",
   "metadata": {},
   "source": [
    "## Adding values to existing table"
   ]
  },
  {
   "cell_type": "code",
   "execution_count": null,
   "id": "c7f96db6",
   "metadata": {},
   "outputs": [],
   "source": [
    "with engine.begin() as conn:\n",
    "    conn.execute(\n",
    "        text(\"INSERT INTO some_table (x, y) VALUES (:x, :y)\"),\n",
    "        [{\"x\": 6, \"y\": 8}, {\"x\": 9, \"y\": 10}],\n",
    "    )"
   ]
  },
  {
   "cell_type": "markdown",
   "id": "f0712d45",
   "metadata": {},
   "source": [
    "Result has lots of methods for fetching and transforming rows, such as the Result.all() method illustrated previously, which returns a list of all Row objects. It also implements the Python iterator interface so that we can iterate over the collection of Row objects directly.\n",
    "\n",
    "The Row objects themselves are intended to act like Python named tuples. Below we illustrate a variety of ways to access rows.\n"
   ]
  },
  {
   "cell_type": "markdown",
   "id": "1a1984ab",
   "metadata": {},
   "source": [
    "## Ways to access rows"
   ]
  },
  {
   "cell_type": "code",
   "execution_count": null,
   "id": "ae6584d2",
   "metadata": {},
   "outputs": [],
   "source": [
    "#Tuple Assignment - This is the most Python-idiomatic style, which is to assign variables to each row positionally as they are received:\n",
    "with engine.connect() as conn:\n",
    "\n",
    "    result = conn.execute(text(\"select x, y from some_table\"))\n",
    "\n",
    "    for x, y in result:\n",
    "        ..."
   ]
  },
  {
   "cell_type": "code",
   "execution_count": null,
   "id": "4bef88cc",
   "metadata": {},
   "outputs": [],
   "source": [
    "# Integer Index - Tuples are Python sequences, so regular integer access is available too:\n",
    "#\n",
    "with engine.connect() as conn:\n",
    "    result = conn.execute(text(\"select x, y from some_table\"))\n",
    "\n",
    "    for row in result:\n",
    "        x = row[0]"
   ]
  },
  {
   "cell_type": "code",
   "execution_count": null,
   "id": "2045943c",
   "metadata": {},
   "outputs": [],
   "source": [
    "# Attribute Name - As these are Python named tuples, the tuples have dynamic attribute names matching the names of each column. These names are normally the names that the SQL statement assigns to the columns in each row. While they are usually fairly predictable and can also be controlled by labels, in less defined cases they may be subject to database-specific behaviors:\n",
    "\n",
    "with engine.connect() as conn:\n",
    "    result = conn.execute(text(\"select x, y from some_table\"))\n",
    "\n",
    "    for row in result:\n",
    "        y = row.y\n",
    "\n",
    "        # illustrate use with Python f-strings\n",
    "        print(f\"Row: {row.x} {y}\")"
   ]
  },
  {
   "cell_type": "code",
   "execution_count": null,
   "id": "69d52ba5",
   "metadata": {},
   "outputs": [],
   "source": [
    "# Mapping Access - To receive rows as Python mapping objects, which is essentially a read-only version of Python’s interface to the common dict object, the Result may be transformed into a MappingResult object using the Result.mappings() modifier; this is a result object that yields dictionary-like RowMapping objects rather than Row objects:\n",
    "with engine.connect() as conn:\n",
    "\n",
    "    result = conn.execute(text(\"select x, y from some_table\"))\n",
    "\n",
    "    for dict_row in result.mappings():\n",
    "        x = dict_row[\"x\"]\n",
    "        y = dict_row[\"y\"]\n",
    "        print(x,y)"
   ]
  },
  {
   "cell_type": "code",
   "execution_count": null,
   "id": "ba4df335",
   "metadata": {},
   "outputs": [],
   "source": []
  },
  {
   "cell_type": "code",
   "execution_count": null,
   "id": "aee74d33",
   "metadata": {},
   "outputs": [],
   "source": []
  }
 ],
 "metadata": {
  "kernelspec": {
   "display_name": "Python 3 (ipykernel)",
   "language": "python",
   "name": "python3"
  },
  "language_info": {
   "codemirror_mode": {
    "name": "ipython",
    "version": 3
   },
   "file_extension": ".py",
   "mimetype": "text/x-python",
   "name": "python",
   "nbconvert_exporter": "python",
   "pygments_lexer": "ipython3",
   "version": "3.10.4"
  }
 },
 "nbformat": 4,
 "nbformat_minor": 5
}
